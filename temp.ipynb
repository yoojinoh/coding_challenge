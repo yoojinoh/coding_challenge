{
 "cells": [
  {
   "cell_type": "code",
   "execution_count": null,
   "metadata": {},
   "outputs": [],
   "source": [
    "import numpy as np\n",
    "import pandas as pd\n",
    "from datetime import datetime\n",
    "import matplotlib.pyplot as plt"
   ]
  },
  {
   "cell_type": "code",
   "execution_count": null,
   "metadata": {},
   "outputs": [],
   "source": [
    "df = pd.read_csv(\n",
    "    \"data/sample_temperature_data_for_coding_challenge.csv\",\n",
    "    sep=','\n",
    ")\n",
    "time= pd.to_datetime(df['datetime'])\n",
    "df['date']=time\n",
    "df = df.set_index(df['date'])"
   ]
  },
  {
   "cell_type": "code",
   "execution_count": null,
   "metadata": {},
   "outputs": [],
   "source": [
    "# filter rows based on property_name\n",
    "df_heat = df[df['property_name']==\"heating_temperature\"]\n",
    "df_cool = df[df['property_name']==\"cooling_temperature\"]\n",
    "\n",
    "# empty dataframe to be appended\n",
    "df_h_ = pd.DataFrame()\n",
    "df_c_ = pd.DataFrame()\n",
    "\n",
    "# The anomaly is detected when the temperature difference \n",
    "# of the heating temp and cooling temp is below a threshold\n",
    "# at a certain hour\n",
    "# This means that either the cooler is overheated or the heater is not functioning\n",
    "\n",
    "# threshold\n",
    "thold = 5\n",
    "\n",
    "# loop through dates\n",
    "listdate = sorted(set(df['date'].dt.date.tolist()))\n",
    "for d in listdate:\n",
    "    df_h = df_heat[(df_heat['date'].dt.date == d)]\n",
    "    df_c = df_cool[(df_cool['date'].dt.date == d)]\n",
    "    df_h['anomaly']=[False]*len(df_h)\n",
    "    df_c['anomaly']=[False]*len(df_c)\n",
    "\n",
    "    # find the hour that includes both heating temp and cooling temp\n",
    "    hours_c = set(sorted(df_c['date'].dt.hour.tolist()))\n",
    "    hours_h = set(sorted(df_h['date'].dt.hour.tolist()))\n",
    "    intersections = hours_h.intersection(hours_c)\n",
    "\n",
    "    # loop through the hours\n",
    "    for i in intersections:\n",
    "        heat_mean = df_h[(df_h['date'].dt.hour==i)][\"temperature\"].mean(numeric_only=True)\n",
    "        cool_mean = df_c[(df_c['date'].dt.hour==i)][\"temperature\"].mean(numeric_only=True)\n",
    "\n",
    "        # difference in the temperature means\n",
    "        diff = abs(heat_mean-cool_mean)\n",
    "\n",
    "        # if difference in temp is below a threshold -> ANOMALY\n",
    "        if diff<thold: \n",
    "            df_c.loc[(df_c['date'].dt.hour==i),'anomaly']=bool(True)\n",
    "            df_h.loc[(df_h['date'].dt.hour==i),'anomaly']=bool(True)\n",
    "    # append to dataframe\n",
    "    df_h_=pd.concat([df_h_, df_h])\n",
    "    df_c_=pd.concat([df_c_, df_c])\n",
    "\n",
    "# recover dataframe and sort\n",
    "df_recovered=pd.concat([df_c_, df_h_])\n",
    "df_recovered=df_recovered.sort_values(by='datetime',)\n",
    "df_recovered['anomaly']=df_recovered['anomaly'].astype('bool')\n",
    "\n",
    "# save to csv\n",
    "df_recovered.to_csv('anomaly_detected_dataset.csv')"
   ]
  },
  {
   "cell_type": "code",
   "execution_count": null,
   "metadata": {},
   "outputs": [],
   "source": [
    "\n",
    "# plot data points, RED: anomaly, Blue: normal\n",
    "X = df_recovered['datetime']\n",
    "time = [datetime.fromisoformat(x.split(\".\")[0]).timestamp() for x in X]\n",
    "df_recovered['timestamp']=time\n",
    "df_heat = df_recovered[df_recovered['property_name']==\"heating_temperature\"]\n",
    "df_cool = df_recovered[df_recovered['property_name']==\"cooling_temperature\"]\n",
    "fig, ax = plt.subplots(2,1,figsize=(15,4))\n",
    "for t, temp, anom in zip(df_heat['timestamp'], df_heat[\"temperature\"],df_heat[\"anomaly\"]):\n",
    "    ax[0].scatter(t,temp, color=\"red\" if anom else \"blue\" )\n",
    "for t, temp, anom in zip(df_cool['timestamp'], df_cool[\"temperature\"],df_cool[\"anomaly\"]):\n",
    "    ax[1].scatter(t,temp, color=\"red\" if anom else \"blue\" )\n",
    "plt.show()"
   ]
  }
 ],
 "metadata": {
  "kernelspec": {
   "display_name": "venv",
   "language": "python",
   "name": "python3"
  },
  "language_info": {
   "codemirror_mode": {
    "name": "ipython",
    "version": 3
   },
   "file_extension": ".py",
   "mimetype": "text/x-python",
   "name": "python",
   "nbconvert_exporter": "python",
   "pygments_lexer": "ipython3",
   "version": "3.8.10 (default, Jun 22 2022, 20:18:18) \n[GCC 9.4.0]"
  },
  "orig_nbformat": 4,
  "vscode": {
   "interpreter": {
    "hash": "880d8243af4a7e6ec90fa865fa73d3008298eb343372cb30da94081766aceec0"
   }
  }
 },
 "nbformat": 4,
 "nbformat_minor": 2
}
