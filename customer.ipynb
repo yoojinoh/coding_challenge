{
 "cells": [
  {
   "cell_type": "code",
   "execution_count": null,
   "metadata": {},
   "outputs": [],
   "source": [
    "import numpy as np\n",
    "import pandas as pd\n",
    "from datetime import datetime\n",
    "import matplotlib.pyplot as plt\n",
    "from sklearn.preprocessing import StandardScaler\n",
    "from sklearn.model_selection import train_test_split\n",
    "from classifier_tf import ClassifierTFModel\n",
    "import tensorflow as tf"
   ]
  },
  {
   "cell_type": "code",
   "execution_count": null,
   "metadata": {},
   "outputs": [],
   "source": [
    "df = pd.read_csv(\n",
    "    \"data/CustomerData_LeadGenerator.csv\",\n",
    "    sep=','\n",
    ")\n",
    "df.head()"
   ]
  },
  {
   "cell_type": "code",
   "execution_count": null,
   "metadata": {},
   "outputs": [],
   "source": [
    "# error in dataset (in \"q_OpeningHours\"), maybe a typo? replace with O\n",
    "df = df.replace(\"ject\", 0)\n",
    "\n",
    "# cast \"q_OpeningHours\" to float64\n",
    "df = df.astype({'q_OpeningHours': 'float64'})"
   ]
  },
  {
   "cell_type": "code",
   "execution_count": null,
   "metadata": {},
   "outputs": [],
   "source": [
    "def labels_to_class(arr):\n",
    "    \"\"\" Converts the array of labels into a decimal number \n",
    "        ex. [1,0,0,0] -> 8\n",
    "            [0,0,1,1] -> 3\n",
    "    \"\"\"\n",
    "    to_class = [np.sum([n*2**i for i, n in enumerate(reversed(arr[j]))]) for j in range(arr.shape[0])]\n",
    "    return to_class"
   ]
  },
  {
   "cell_type": "code",
   "execution_count": null,
   "metadata": {},
   "outputs": [],
   "source": [
    "# Convert the combinations of specialization labels into a class (0~2^10) \n",
    "include_b = [col for col in df.columns if col.startswith(\"b_\") ][:-2]\n",
    "binary = df[include_b].values[:300]\n",
    "\n",
    "to_int = labels_to_class(binary)\n",
    "\n",
    "fig, ax = plt.subplots(2,1,figsize=(15,4))\n",
    "ax[0].scatter(np.arange(len(to_int)), to_int, s=5)\n",
    "ax[1].scatter(np.arange(len(to_int)), np.sum(binary, axis=1), s=5)\n",
    "plt.show()"
   ]
  },
  {
   "attachments": {},
   "cell_type": "markdown",
   "metadata": {},
   "source": [
    "### Analyze Input Data"
   ]
  },
  {
   "cell_type": "code",
   "execution_count": null,
   "metadata": {},
   "outputs": [],
   "source": [
    "# Plot all data that starts with \"q_\"\n",
    "include_q = [col for col in df.columns if col.startswith(\"q_\") ]\n",
    "X = df[include_q].values\n",
    "fig, ax = plt.subplots(X.shape[-1],1,figsize=(15,2*len(include_q)),sharex=True)\n",
    "axes = [ax[i].scatter(np.arange(len(X)), X[:,i], s=5) for i in range(X.shape[-1])]\n",
    "[ax[i].set_title(name) for i, name in enumerate(include_q)]\n",
    "plt.show()"
   ]
  },
  {
   "cell_type": "code",
   "execution_count": null,
   "metadata": {},
   "outputs": [],
   "source": [
    "\n",
    "# some data seems to be correlated\n",
    "fig, ax = plt.subplots(2,figsize=(15,5))\n",
    "ax[0].scatter(np.arange(len(X)),df['q_2017 Total Households'].values, c='r')\n",
    "ax1=ax[0].twinx()\n",
    "ax1.scatter(np.arange(len(X)),df['q_2017 HHs: 5th Quintile (68.759 and above)'].values)\n",
    "\n",
    "ax[1].scatter(np.arange(len(X)),df['q_2017 Pop 15+/Edu: University, Fachhochschule'].values)\n",
    "ax2=ax[1].twinx()\n",
    "ax2.scatter(np.arange(len(X)),df['q_Uni by Total Pop'].values, c='g')\n"
   ]
  },
  {
   "cell_type": "code",
   "execution_count": null,
   "metadata": {},
   "outputs": [],
   "source": [
    "label_kontakt = df['b_in_kontakt_gewesen'].values\n",
    "label_gesamt = df['b_gekauft_gesamt'].values\n",
    "\n",
    "print(\"Percentage of 1 in 'b_in_kontakt_gewesen' dataset: {}%, length:{}\"\n",
    "    .format(np.sum(label_kontakt)/len(label_kontakt)*100,np.sum(label_kontakt)))\n",
    "print(\"Percentage of 1 in 'b_gekauft_gesamt' dataset: {}%, length:{}\"\n",
    "    .format(np.sum(label_gesamt)/len(label_gesamt)*100,np.sum(label_gesamt)))"
   ]
  },
  {
   "attachments": {},
   "cell_type": "markdown",
   "metadata": {},
   "source": [
    "### Train Classifier\n",
    "The model will not be trained properly because there are too little label '1's in the labels. Most of the batches will contain only 0 labels and the model will converge to predict only '0' labels, which will still give a high accuracy because there are so little '1's.."
   ]
  },
  {
   "cell_type": "code",
   "execution_count": null,
   "metadata": {},
   "outputs": [],
   "source": [
    "X = StandardScaler().fit_transform(X)\n",
    "y = df[['b_in_kontakt_gewesen','b_gekauft_gesamt']].values\n",
    "X_train, X_test, y_train, y_test = train_test_split(\n",
    "    X, y, test_size=0.2, random_state=99\n",
    ")\n",
    "print(\"Train size: {}, Test size: {}\".format(X_train.shape, X_test.shape))\n",
    "print(\"Train size: {}, Test size: {}\".format(y_train.shape, y_test.shape))"
   ]
  },
  {
   "cell_type": "code",
   "execution_count": null,
   "metadata": {},
   "outputs": [],
   "source": [
    "model = ClassifierTFModel(\"./config.yaml\")\n",
    "model.train(X_train, X_test, y_train, y_test)"
   ]
  },
  {
   "cell_type": "code",
   "execution_count": null,
   "metadata": {},
   "outputs": [],
   "source": [
    "# High accuracy but not trained properly\n",
    "result = model.predict(X_test)\n",
    "y_pred = np.round(result, 0)\n",
    "correct=[1 if np.array_equal(y_ref, y_pred) else 0 for y_ref, y_pred in zip(y_test, y_pred) ]\n",
    "print(\"Accuracy based on the test set: {0:0.3f}%\".format(np.sum(correct)/len(correct)*100))\n"
   ]
  },
  {
   "cell_type": "markdown",
   "metadata": {},
   "source": []
  }
 ],
 "metadata": {
  "kernelspec": {
   "display_name": "venv",
   "language": "python",
   "name": "python3"
  },
  "language_info": {
   "codemirror_mode": {
    "name": "ipython",
    "version": 3
   },
   "file_extension": ".py",
   "mimetype": "text/x-python",
   "name": "python",
   "nbconvert_exporter": "python",
   "pygments_lexer": "ipython3",
   "version": "3.8.10"
  },
  "orig_nbformat": 4,
  "vscode": {
   "interpreter": {
    "hash": "880d8243af4a7e6ec90fa865fa73d3008298eb343372cb30da94081766aceec0"
   }
  }
 },
 "nbformat": 4,
 "nbformat_minor": 2
}
